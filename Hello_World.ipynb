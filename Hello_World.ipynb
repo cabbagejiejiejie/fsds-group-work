{
 "cells": [
  {
   "cell_type": "code",
   "execution_count": null,
   "id": "f03a8996-7d25-4ddb-99d6-e58dfa0c18c3",
   "metadata": {},
   "outputs": [],
   "source": [
    "print(\"Hello World!xwhchange\")"
   ]
  },
  {
   "cell_type": "code",
   "execution_count": null,
   "id": "e77b5a7a-aec7-4ab9-bca4-8db26fde4bfe",
   "metadata": {},
   "outputs": [],
   "source": [
    "print(\"Hello World\")"
   ]
  }
 ],
 "metadata": {
  "kernelspec": {
   "display_name": "Python 3 (ipykernel)",
   "language": "python",
   "name": "python3"
  },
  "language_info": {
   "codemirror_mode": {
    "name": "ipython",
    "version": 3
   },
   "file_extension": ".py",
   "mimetype": "text/x-python",
   "name": "python",
   "nbconvert_exporter": "python",
   "pygments_lexer": "ipython3",
   "version": "3.11.5"
  }
 },
 "nbformat": 4,
 "nbformat_minor": 5
}
