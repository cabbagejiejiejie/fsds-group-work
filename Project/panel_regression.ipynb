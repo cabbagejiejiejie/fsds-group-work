{
 "cells": [
  {
   "cell_type": "code",
   "execution_count": 9,
   "id": "d35ca711-e81e-44f9-b663-dc9d47f9804a",
   "metadata": {},
   "outputs": [],
   "source": [
    "import os\n",
    "import numpy as np\n",
    "import pandas as pd\n",
    "import statsmodels.api as sm\n",
    "from linearmodels import RandomEffects\n",
    "from sklearn.preprocessing import MinMaxScaler"
   ]
  },
  {
   "cell_type": "code",
   "execution_count": null,
   "id": "34617442-95e2-4ba3-b348-bcc45c5f78bf",
   "metadata": {},
   "outputs": [],
   "source": []
  },
  {
   "cell_type": "code",
   "execution_count": 10,
   "id": "1d5ad75a-6b52-4d2e-8da6-99e866acdaa4",
   "metadata": {},
   "outputs": [
    {
     "data": {
      "text/html": [
       "<div>\n",
       "<style scoped>\n",
       "    .dataframe tbody tr th:only-of-type {\n",
       "        vertical-align: middle;\n",
       "    }\n",
       "\n",
       "    .dataframe tbody tr th {\n",
       "        vertical-align: top;\n",
       "    }\n",
       "\n",
       "    .dataframe thead th {\n",
       "        text-align: right;\n",
       "    }\n",
       "</style>\n",
       "<table border=\"1\" class=\"dataframe\">\n",
       "  <thead>\n",
       "    <tr style=\"text-align: right;\">\n",
       "      <th></th>\n",
       "      <th>index</th>\n",
       "      <th>borough</th>\n",
       "      <th>price_long_rents</th>\n",
       "      <th>count_long_rents</th>\n",
       "      <th>year</th>\n",
       "      <th>price_airbnb</th>\n",
       "      <th>borough_area</th>\n",
       "      <th>count_airbnb</th>\n",
       "      <th>density_airbnb</th>\n",
       "      <th>code</th>\n",
       "    </tr>\n",
       "  </thead>\n",
       "  <tbody>\n",
       "    <tr>\n",
       "      <th>0</th>\n",
       "      <td>2023</td>\n",
       "      <td>Barking and Dagenham</td>\n",
       "      <td>1350.025316</td>\n",
       "      <td>790</td>\n",
       "      <td>2023</td>\n",
       "      <td>245.840426</td>\n",
       "      <td>36107810</td>\n",
       "      <td>564</td>\n",
       "      <td>1.561989</td>\n",
       "      <td>1</td>\n",
       "    </tr>\n",
       "    <tr>\n",
       "      <th>1</th>\n",
       "      <td>2023</td>\n",
       "      <td>Barnet</td>\n",
       "      <td>1701.178082</td>\n",
       "      <td>2190</td>\n",
       "      <td>2023</td>\n",
       "      <td>160.523344</td>\n",
       "      <td>86748314</td>\n",
       "      <td>2249</td>\n",
       "      <td>2.592558</td>\n",
       "      <td>2</td>\n",
       "    </tr>\n",
       "    <tr>\n",
       "      <th>2</th>\n",
       "      <td>2023</td>\n",
       "      <td>Bexley</td>\n",
       "      <td>1399.245283</td>\n",
       "      <td>530</td>\n",
       "      <td>2023</td>\n",
       "      <td>95.046465</td>\n",
       "      <td>60580233</td>\n",
       "      <td>495</td>\n",
       "      <td>0.817098</td>\n",
       "      <td>3</td>\n",
       "    </tr>\n",
       "    <tr>\n",
       "      <th>3</th>\n",
       "      <td>2023</td>\n",
       "      <td>Brent</td>\n",
       "      <td>1628.101695</td>\n",
       "      <td>590</td>\n",
       "      <td>2023</td>\n",
       "      <td>179.079197</td>\n",
       "      <td>43232640</td>\n",
       "      <td>2740</td>\n",
       "      <td>6.337804</td>\n",
       "      <td>4</td>\n",
       "    </tr>\n",
       "    <tr>\n",
       "      <th>4</th>\n",
       "      <td>2023</td>\n",
       "      <td>Bromley</td>\n",
       "      <td>1499.208696</td>\n",
       "      <td>2300</td>\n",
       "      <td>2023</td>\n",
       "      <td>105.972798</td>\n",
       "      <td>150134858</td>\n",
       "      <td>772</td>\n",
       "      <td>0.514204</td>\n",
       "      <td>5</td>\n",
       "    </tr>\n",
       "  </tbody>\n",
       "</table>\n",
       "</div>"
      ],
      "text/plain": [
       "   index               borough  price_long_rents  count_long_rents  year  \\\n",
       "0   2023  Barking and Dagenham       1350.025316               790  2023   \n",
       "1   2023                Barnet       1701.178082              2190  2023   \n",
       "2   2023                Bexley       1399.245283               530  2023   \n",
       "3   2023                 Brent       1628.101695               590  2023   \n",
       "4   2023               Bromley       1499.208696              2300  2023   \n",
       "\n",
       "   price_airbnb  borough_area  count_airbnb  density_airbnb  code  \n",
       "0    245.840426      36107810           564        1.561989     1  \n",
       "1    160.523344      86748314          2249        2.592558     2  \n",
       "2     95.046465      60580233           495        0.817098     3  \n",
       "3    179.079197      43232640          2740        6.337804     4  \n",
       "4    105.972798     150134858           772        0.514204     5  "
      ]
     },
     "execution_count": 10,
     "metadata": {},
     "output_type": "execute_result"
    }
   ],
   "source": [
    "panel_data = pd.read_csv('Data/final/Rental_5year.csv')\n",
    "\n",
    "panel_data.head()"
   ]
  },
  {
   "cell_type": "code",
   "execution_count": 11,
   "id": "9090658f-daea-4b6b-8382-fe250fb1c665",
   "metadata": {},
   "outputs": [
    {
     "name": "stdout",
     "output_type": "stream",
     "text": [
      "<class 'pandas.core.frame.DataFrame'>\n",
      "RangeIndex: 165 entries, 0 to 164\n",
      "Data columns (total 10 columns):\n",
      " #   Column            Non-Null Count  Dtype  \n",
      "---  ------            --------------  -----  \n",
      " 0   index             165 non-null    int64  \n",
      " 1   borough           165 non-null    object \n",
      " 2   price_long_rents  165 non-null    float64\n",
      " 3   count_long_rents  165 non-null    int64  \n",
      " 4   year              165 non-null    int64  \n",
      " 5   price_airbnb      165 non-null    float64\n",
      " 6   borough_area      165 non-null    int64  \n",
      " 7   count_airbnb      165 non-null    int64  \n",
      " 8   density_airbnb    165 non-null    float64\n",
      " 9   code              165 non-null    int64  \n",
      "dtypes: float64(3), int64(6), object(1)\n",
      "memory usage: 13.0+ KB\n"
     ]
    }
   ],
   "source": [
    "panel_data.info()"
   ]
  },
  {
   "cell_type": "code",
   "execution_count": 12,
   "id": "041afb2e-f713-40be-bd93-2d460741c6dd",
   "metadata": {},
   "outputs": [],
   "source": [
    "panel_data = panel_data.set_index([\"index\", \"code\"])"
   ]
  },
  {
   "cell_type": "code",
   "execution_count": 15,
   "id": "2d39035e-13ce-452f-ad60-5147e2dfcf7d",
   "metadata": {},
   "outputs": [],
   "source": [
    "# 选择自变量和因变量\n",
    "\n",
    "independent_vars = [\n",
    "    \"price_airbnb\",\n",
    "    \"density_airbnb\",\n",
    "]\n",
    "dependent_var = \"price_long_rents\"  # 之前计算的综合指数\n",
    "\n",
    "# 准备模型的因变量和自变量\n",
    "Y = panel_data[dependent_var]\n",
    "X = panel_data[independent_vars]\n",
    "\n",
    "# 添加常数项\n",
    "X = sm.add_constant(X)"
   ]
  },
  {
   "cell_type": "code",
   "execution_count": 16,
   "id": "5f114f87-3186-4d27-bbc1-edcd68f4f303",
   "metadata": {},
   "outputs": [
    {
     "name": "stdout",
     "output_type": "stream",
     "text": [
      "                        RandomEffects Estimation Summary                        \n",
      "================================================================================\n",
      "Dep. Variable:       price_long_rents   R-squared:                        0.8532\n",
      "Estimator:              RandomEffects   R-squared (Between):              0.7839\n",
      "No. Observations:                 165   R-squared (Within):               0.8551\n",
      "Date:                Thu, Dec 07 2023   R-squared (Overall):              0.8525\n",
      "Time:                        18:35:16   Log-likelihood                   -1072.7\n",
      "Cov. Estimator:            Unadjusted                                           \n",
      "                                        F-statistic:                      470.84\n",
      "Entities:                           5   P-value                           0.0000\n",
      "Avg Obs:                       33.000   Distribution:                   F(2,162)\n",
      "Min Obs:                       33.000                                           \n",
      "Max Obs:                       33.000   F-statistic (robust):             470.84\n",
      "                                        P-value                           0.0000\n",
      "Time periods:                      33   Distribution:                   F(2,162)\n",
      "Avg Obs:                       5.0000                                           \n",
      "Min Obs:                       5.0000                                           \n",
      "Max Obs:                       5.0000                                           \n",
      "                                                                                \n",
      "                               Parameter Estimates                                \n",
      "==================================================================================\n",
      "                Parameter  Std. Err.     T-stat    P-value    Lower CI    Upper CI\n",
      "----------------------------------------------------------------------------------\n",
      "const              1042.6     33.893     30.762     0.0000      975.68      1109.5\n",
      "price_airbnb       3.3687     0.2909     11.580     0.0000      2.7943      3.9432\n",
      "density_airbnb     20.007     1.2206     16.392     0.0000      17.597      22.418\n",
      "==================================================================================\n"
     ]
    }
   ],
   "source": [
    "# 构建随机效应模型\n",
    "model = RandomEffects(Y, X)\n",
    "results = model.fit()\n",
    "\n",
    "# 输出模型结果\n",
    "print(results)"
   ]
  },
  {
   "cell_type": "code",
   "execution_count": null,
   "id": "593aaa10-1902-4e34-8fe9-16600c523d2c",
   "metadata": {},
   "outputs": [],
   "source": []
  },
  {
   "cell_type": "code",
   "execution_count": 17,
   "id": "3d8487a2-9809-433f-a531-a455c8dca743",
   "metadata": {},
   "outputs": [
    {
     "name": "stdout",
     "output_type": "stream",
     "text": [
      "                          PanelOLS Estimation Summary                           \n",
      "================================================================================\n",
      "Dep. Variable:       price_long_rents   R-squared:                        0.8556\n",
      "Estimator:                   PanelOLS   R-squared (Between):              0.7423\n",
      "No. Observations:                 165   R-squared (Within):               0.8556\n",
      "Date:                Thu, Dec 07 2023   R-squared (Overall):              0.8515\n",
      "Time:                        18:35:28   Log-likelihood                   -1069.2\n",
      "Cov. Estimator:            Unadjusted                                           \n",
      "                                        F-statistic:                      467.98\n",
      "Entities:                           5   P-value                           0.0000\n",
      "Avg Obs:                       33.000   Distribution:                   F(2,158)\n",
      "Min Obs:                       33.000                                           \n",
      "Max Obs:                       33.000   F-statistic (robust):             467.98\n",
      "                                        P-value                           0.0000\n",
      "Time periods:                      33   Distribution:                   F(2,158)\n",
      "Avg Obs:                       5.0000                                           \n",
      "Min Obs:                       5.0000                                           \n",
      "Max Obs:                       5.0000                                           \n",
      "                                                                                \n",
      "                               Parameter Estimates                                \n",
      "==================================================================================\n",
      "                Parameter  Std. Err.     T-stat    P-value    Lower CI    Upper CI\n",
      "----------------------------------------------------------------------------------\n",
      "const              1020.6     36.172     28.214     0.0000      949.13      1092.0\n",
      "price_airbnb       3.6053     0.3292     10.953     0.0000      2.9552      4.2555\n",
      "density_airbnb     19.301     1.2771     15.113     0.0000      16.779      21.824\n",
      "==================================================================================\n",
      "\n",
      "F-test for Poolability: 2.3201\n",
      "P-value: 0.0593\n",
      "Distribution: F(4,158)\n",
      "\n",
      "Included effects: Entity\n"
     ]
    }
   ],
   "source": [
    "from linearmodels.panel import PanelOLS\n",
    "\n",
    "# 估计固定效应模型\n",
    "model = PanelOLS(Y, X, entity_effects=True)\n",
    "results = model.fit()\n",
    "\n",
    "# 输出固定效应模型的结果\n",
    "print(results)\n"
   ]
  },
  {
   "cell_type": "code",
   "execution_count": null,
   "id": "58bcc92d-79b3-440b-8590-1dada8187ed5",
   "metadata": {},
   "outputs": [],
   "source": []
  },
  {
   "cell_type": "code",
   "execution_count": null,
   "id": "835c4bbd-a2a3-42da-9315-55e11479a86d",
   "metadata": {},
   "outputs": [],
   "source": []
  },
  {
   "cell_type": "code",
   "execution_count": 90,
   "id": "ad5dc087-4961-4255-bf11-204273aa5c34",
   "metadata": {},
   "outputs": [],
   "source": [
    "panel_data_diff = panel_data['price_airbnb'].diff().dropna()"
   ]
  },
  {
   "cell_type": "code",
   "execution_count": 53,
   "id": "ffbd722c-bd3f-4438-82fc-c2c0407b72c5",
   "metadata": {},
   "outputs": [
    {
     "data": {
      "text/html": [
       "<div>\n",
       "<style scoped>\n",
       "    .dataframe tbody tr th:only-of-type {\n",
       "        vertical-align: middle;\n",
       "    }\n",
       "\n",
       "    .dataframe tbody tr th {\n",
       "        vertical-align: top;\n",
       "    }\n",
       "\n",
       "    .dataframe thead th {\n",
       "        text-align: right;\n",
       "    }\n",
       "</style>\n",
       "<table border=\"1\" class=\"dataframe\">\n",
       "  <thead>\n",
       "    <tr style=\"text-align: right;\">\n",
       "      <th></th>\n",
       "      <th></th>\n",
       "      <th>borough</th>\n",
       "      <th>price_long_rents</th>\n",
       "      <th>count_long_rents</th>\n",
       "      <th>year</th>\n",
       "      <th>price_airbnb</th>\n",
       "      <th>borough_area</th>\n",
       "      <th>count_airbnb</th>\n",
       "      <th>density_airbnb</th>\n",
       "    </tr>\n",
       "    <tr>\n",
       "      <th>index</th>\n",
       "      <th>code</th>\n",
       "      <th></th>\n",
       "      <th></th>\n",
       "      <th></th>\n",
       "      <th></th>\n",
       "      <th></th>\n",
       "      <th></th>\n",
       "      <th></th>\n",
       "      <th></th>\n",
       "    </tr>\n",
       "  </thead>\n",
       "  <tbody>\n",
       "    <tr>\n",
       "      <th rowspan=\"5\" valign=\"top\">2023</th>\n",
       "      <th>1</th>\n",
       "      <td>Barking and Dagenham</td>\n",
       "      <td>1350.025316</td>\n",
       "      <td>790</td>\n",
       "      <td>2023</td>\n",
       "      <td>245.840426</td>\n",
       "      <td>36107810</td>\n",
       "      <td>564</td>\n",
       "      <td>1.561989</td>\n",
       "    </tr>\n",
       "    <tr>\n",
       "      <th>2</th>\n",
       "      <td>Barnet</td>\n",
       "      <td>1701.178082</td>\n",
       "      <td>2190</td>\n",
       "      <td>2023</td>\n",
       "      <td>160.523344</td>\n",
       "      <td>86748314</td>\n",
       "      <td>2249</td>\n",
       "      <td>2.592558</td>\n",
       "    </tr>\n",
       "    <tr>\n",
       "      <th>3</th>\n",
       "      <td>Bexley</td>\n",
       "      <td>1399.245283</td>\n",
       "      <td>530</td>\n",
       "      <td>2023</td>\n",
       "      <td>95.046465</td>\n",
       "      <td>60580233</td>\n",
       "      <td>495</td>\n",
       "      <td>0.817098</td>\n",
       "    </tr>\n",
       "    <tr>\n",
       "      <th>4</th>\n",
       "      <td>Brent</td>\n",
       "      <td>1628.101695</td>\n",
       "      <td>590</td>\n",
       "      <td>2023</td>\n",
       "      <td>179.079197</td>\n",
       "      <td>43232640</td>\n",
       "      <td>2740</td>\n",
       "      <td>6.337804</td>\n",
       "    </tr>\n",
       "    <tr>\n",
       "      <th>5</th>\n",
       "      <td>Bromley</td>\n",
       "      <td>1499.208696</td>\n",
       "      <td>2300</td>\n",
       "      <td>2023</td>\n",
       "      <td>105.972798</td>\n",
       "      <td>150134858</td>\n",
       "      <td>772</td>\n",
       "      <td>0.514204</td>\n",
       "    </tr>\n",
       "  </tbody>\n",
       "</table>\n",
       "</div>"
      ],
      "text/plain": [
       "                         borough  price_long_rents  count_long_rents  year  \\\n",
       "index code                                                                   \n",
       "2023  1     Barking and Dagenham       1350.025316               790  2023   \n",
       "      2                   Barnet       1701.178082              2190  2023   \n",
       "      3                   Bexley       1399.245283               530  2023   \n",
       "      4                    Brent       1628.101695               590  2023   \n",
       "      5                  Bromley       1499.208696              2300  2023   \n",
       "\n",
       "            price_airbnb  borough_area  count_airbnb  density_airbnb  \n",
       "index code                                                            \n",
       "2023  1       245.840426      36107810           564        1.561989  \n",
       "      2       160.523344      86748314          2249        2.592558  \n",
       "      3        95.046465      60580233           495        0.817098  \n",
       "      4       179.079197      43232640          2740        6.337804  \n",
       "      5       105.972798     150134858           772        0.514204  "
      ]
     },
     "execution_count": 53,
     "metadata": {},
     "output_type": "execute_result"
    }
   ],
   "source": [
    "panel_data.head()"
   ]
  },
  {
   "cell_type": "code",
   "execution_count": 91,
   "id": "d0397479-6e97-4cf2-a493-273e6c6dcbf5",
   "metadata": {},
   "outputs": [
    {
     "name": "stdout",
     "output_type": "stream",
     "text": [
      "ADF单位根检验结果:\n",
      "ADF统计量: -9.328082621088178\n",
      "P值: 9.490544419785538e-16\n",
      "滞后阶数: 11\n",
      "观察值个数: 152\n",
      "临界值: {'1%': -3.474120870218417, '5%': -2.880749791423677, '10%': -2.5770126333102494}\n",
      "1%显著性水平的临界值: -3.474120870218417\n",
      "5%显著性水平的临界值: -2.880749791423677\n",
      "10%显著性水平的临界值: -2.5770126333102494\n"
     ]
    }
   ],
   "source": [
    "from statsmodels.tsa.stattools import adfuller\n",
    "\n",
    "# 进行 ADF 单位根检验\n",
    "#result = adfuller(panel_data['price_long_rents'])\n",
    "result = adfuller(panel_data['price_airbnb'])\n",
    "#result = adfuller(panel_data['density_airbnb'])\n",
    "\n",
    "# 输出 ADF 检验的结果\n",
    "print('ADF单位根检验结果:')\n",
    "print(f'ADF统计量: {result[0]}')\n",
    "print(f'P值: {result[1]}')\n",
    "print(f'滞后阶数: {result[2]}')\n",
    "print(f'观察值个数: {result[3]}')\n",
    "print(f'临界值: {result[4]}')\n",
    "print(f'1%显著性水平的临界值: {result[4][\"1%\"]}')\n",
    "print(f'5%显著性水平的临界值: {result[4][\"5%\"]}')\n",
    "print(f'10%显著性水平的临界值: {result[4][\"10%\"]}')\n",
    "\n"
   ]
  },
  {
   "cell_type": "code",
   "execution_count": 95,
   "id": "a5919c8d-5d1c-47ae-bf75-70076fde60e1",
   "metadata": {},
   "outputs": [
    {
     "name": "stdout",
     "output_type": "stream",
     "text": [
      "协整关系检验结果:\n",
      "Cointegration statistic: -1.252563099934649\n",
      "P-value: 0.8435943093379856\n",
      "Critical values: [-3.96446642 -3.37364039 -3.07041211]\n"
     ]
    }
   ],
   "source": [
    "from statsmodels.tsa.stattools import coint\n",
    "\n",
    "# 进行协整关系检验\n",
    "result = coint(panel_data['density_airbnb'], panel_data['price_airbnb'])\n",
    "\n",
    "# 输出协整关系检验的结果\n",
    "print('协整关系检验结果:')\n",
    "print(f'Cointegration statistic: {result[0]}')\n",
    "print(f'P-value: {result[1]}')\n",
    "print(f'Critical values: {result[2]}')\n"
   ]
  },
  {
   "cell_type": "code",
   "execution_count": 66,
   "id": "9bc2f1fe-7fdb-40bb-a744-78d7900997ca",
   "metadata": {},
   "outputs": [
    {
     "name": "stdout",
     "output_type": "stream",
     "text": [
      "[('LM Statistic', 13.287780815293392), ('LM-Test p-value', 0.0013019522533443803), ('F-Statistic', 7.094420290091326), ('F-Test p-value', 0.001112925174479028)]\n"
     ]
    }
   ],
   "source": [
    "#BP检验\n",
    "from statsmodels.compat import lzip\n",
    "from statsmodels.stats.diagnostic import het_breuschpagan\n",
    "\n",
    "# 估计随机效应模型\n",
    "model = sm.OLS(Y, X)\n",
    "results = model.fit()\n",
    "\n",
    "# 进行Breusch-Pagan检验\n",
    "bp_test = het_breuschpagan(results.resid, X)\n",
    "\n",
    "# 输出检验结果\n",
    "labels = ['LM Statistic', 'LM-Test p-value', 'F-Statistic', 'F-Test p-value']\n",
    "print(lzip(labels, bp_test))\n"
   ]
  },
  {
   "cell_type": "code",
   "execution_count": 77,
   "id": "08a5af19-3ab9-4f4d-a33a-609c46253142",
   "metadata": {},
   "outputs": [
    {
     "name": "stdout",
     "output_type": "stream",
     "text": [
      "Hausman Statistic: 1.562698901347319\n",
      "Degrees of Freedom: 3\n",
      "P-value: 0.6678768501827694\n"
     ]
    }
   ],
   "source": [
    "#Hausman检验\n",
    "from scipy.stats import chi2\n",
    "\n",
    "model_fe = PanelOLS(Y, X, entity_effects=True).fit()\n",
    "model_re = RandomEffects(Y, X).fit()\n",
    "\n",
    "# Calculate the difference in coefficients\n",
    "coeff_diff = model_fe.params - model_re.params\n",
    "\n",
    "# Calculate the variance-covariance matrix of the difference\n",
    "vcov_diff = model_fe.cov - model_re.cov\n",
    "\n",
    "# Calculate the Hausman test statistic\n",
    "hausman_statistic = coeff_diff @ np.linalg.inv(vcov_diff) @ coeff_diff\n",
    "\n",
    "# Calculate degrees of freedom\n",
    "df = len(coeff_diff)\n",
    "\n",
    "# Calculate p-value using chi-square distribution\n",
    "p_value = 1 - chi2.cdf(hausman_statistic, df)\n",
    "\n",
    "# Output Hausman test result\n",
    "print(f'Hausman Statistic: {hausman_statistic}')\n",
    "print(f'Degrees of Freedom: {df}')\n",
    "print(f'P-value: {p_value}')"
   ]
  },
  {
   "cell_type": "code",
   "execution_count": null,
   "id": "9aa6de66-e1d6-4cc3-94e5-28822ebe0488",
   "metadata": {},
   "outputs": [],
   "source": []
  }
 ],
 "metadata": {
  "kernelspec": {
   "display_name": "Python 3 (ipykernel)",
   "language": "python",
   "name": "python3"
  },
  "language_info": {
   "codemirror_mode": {
    "name": "ipython",
    "version": 3
   },
   "file_extension": ".py",
   "mimetype": "text/x-python",
   "name": "python",
   "nbconvert_exporter": "python",
   "pygments_lexer": "ipython3",
   "version": "3.11.5"
  }
 },
 "nbformat": 4,
 "nbformat_minor": 5
}
