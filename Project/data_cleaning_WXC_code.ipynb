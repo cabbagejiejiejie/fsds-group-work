{
 "cells": [
  {
   "cell_type": "code",
   "execution_count": 6,
   "id": "cfe7204b-a851-40f2-9e9a-04ee0161c7be",
   "metadata": {},
   "outputs": [],
   "source": [
    "import os\n",
    "import numpy as np\n",
    "import pandas as pd"
   ]
  },
  {
   "cell_type": "code",
   "execution_count": 7,
   "id": "d8e8c9bc-8ac5-416e-8c6b-680145540bab",
   "metadata": {},
   "outputs": [],
   "source": [
    "year_list = ['2019', '2020', '2021', '2022', '2023']"
   ]
  },
  {
   "cell_type": "markdown",
   "id": "4424542f-8be0-4ed0-8455-a36e4a9ebd6c",
   "metadata": {},
   "source": [
    "##以下代码只跑一次"
   ]
  },
  {
   "cell_type": "code",
   "execution_count": 8,
   "id": "0c4dae8c-d91d-4f5a-9bc9-d5bcc24cea9c",
   "metadata": {},
   "outputs": [],
   "source": [
    "url = [\"Data/listings-2019.csv\",\n",
    "       \"Data/listings-2020.csv\",\n",
    "       \"Data/listings-2021.csv\",\n",
    "       \"Data/listings-2022.csv\",\n",
    "       \"Data/listings-2023.csv\"]"
   ]
  },
  {
   "cell_type": "code",
   "execution_count": 9,
   "id": "25d86c5b-56fe-4315-abca-cee91537460f",
   "metadata": {},
   "outputs": [],
   "source": [
    "cols = ['price', 'room_type', 'neighbourhood_cleansed', 'review_scores_rating']\n",
    "cols_2019 = ['price', 'neighbourhood'] #only 2019"
   ]
  },
  {
   "cell_type": "code",
   "execution_count": 10,
   "id": "c4d129e0-2a72-4bcf-bed2-28de85625897",
   "metadata": {},
   "outputs": [
    {
     "name": "stdout",
     "output_type": "stream",
     "text": [
      "Data frame is 85,236 x 18\n",
      "Writing to: drop_cols_listings-2019.csv\n",
      "0 Done.\n",
      "Data frame is 76,984 x 74\n",
      "Writing to: drop_cols_listings-2020.csv\n",
      "1 Done.\n",
      "Data frame is 70,617 x 74\n",
      "Writing to: drop_cols_listings-2021.csv\n",
      "2 Done.\n",
      "Data frame is 69,351 x 75\n",
      "Writing to: drop_cols_listings-2022.csv\n",
      "3 Done.\n",
      "Data frame is 87,946 x 75\n",
      "Writing to: drop_cols_listings-2023.csv\n",
      "4 Done.\n"
     ]
    }
   ],
   "source": [
    "for year in range(0, len(year_list)):\n",
    "    df = pd.read_csv(url[year], low_memory=False) # compression='gzip'\n",
    "    print(f\"Data frame is {df.shape[0]:,} x {df.shape[1]}\")\n",
    "    if year_list[year] == '2019':\n",
    "        df = df[cols_2019]\n",
    "        df['year'] = year_list[year]\n",
    "    else:\n",
    "        df = df[cols]\n",
    "        df['year'] = year_list[year]\n",
    "    \n",
    "    path = os.path.join('Data','raw') # A default location to save raw data\n",
    "    fn = url[year].split('/')[-1]\n",
    "    fn = \"drop_cols_\" + fn \n",
    "    print(f\"Writing to: {fn}\")\n",
    "    if not os.path.exists(path):\n",
    "        print(f\"Creating {path} under {os.getcwd()}\")\n",
    "        os.makedirs(path)\n",
    "    df.to_csv(os.path.join(path,fn), index=False)\n",
    "    print(f\"{year} Done.\")"
   ]
  },
  {
   "cell_type": "markdown",
   "id": "cde3a0fc-a5e2-42ea-a7a8-1a5d4c81c49c",
   "metadata": {},
   "source": [
    "##以上代码只跑一次"
   ]
  },
  {
   "cell_type": "code",
   "execution_count": null,
   "id": "00637976-22f0-42e5-8807-de64322f7b1d",
   "metadata": {},
   "outputs": [],
   "source": []
  },
  {
   "cell_type": "code",
   "execution_count": 11,
   "id": "d37d3ba6-abb8-4c40-9611-173bfa678ce9",
   "metadata": {},
   "outputs": [],
   "source": [
    "url = [\"Data/raw/drop_cols_listings-2019.csv\",\n",
    "       \"Data/raw/drop_cols_listings-2020.csv\",\n",
    "       \"Data/raw/drop_cols_listings-2021.csv\",\n",
    "       \"Data/raw/drop_cols_listings-2022.csv\",\n",
    "       \"Data/raw/drop_cols_listings-2023.csv\"]"
   ]
  },
  {
   "cell_type": "code",
   "execution_count": 16,
   "id": "48aa5e05-c1d0-4ede-82ad-6831a12ed691",
   "metadata": {},
   "outputs": [
    {
     "name": "stdout",
     "output_type": "stream",
     "text": [
      "Data frame is 85,236 x 3\n",
      "<class 'pandas.core.frame.DataFrame'>\n",
      "RangeIndex: 33 entries, 0 to 32\n",
      "Data columns (total 3 columns):\n",
      " #   Column         Non-Null Count  Dtype  \n",
      "---  ------         --------------  -----  \n",
      " 0   region         33 non-null     object \n",
      " 1   count_airbnb   33 non-null     int64  \n",
      " 2   price_average  33 non-null     float64\n",
      "dtypes: float64(1), int64(1), object(1)\n",
      "memory usage: 924.0+ bytes\n",
      "None\n",
      "Data frame is 33 x 3\n",
      "Writing to: Cleaning_done_listings-2019.csv\n",
      "Clean 0 Done.\n",
      "Data frame is 76,984 x 5\n",
      "<class 'pandas.core.frame.DataFrame'>\n",
      "RangeIndex: 33 entries, 0 to 32\n",
      "Data columns (total 4 columns):\n",
      " #   Column                        Non-Null Count  Dtype  \n",
      "---  ------                        --------------  -----  \n",
      " 0   region                        33 non-null     object \n",
      " 1   count                         33 non-null     int64  \n",
      " 2   price_average                 33 non-null     float64\n",
      " 3   review_scores_rating_average  33 non-null     float64\n",
      "dtypes: float64(2), int64(1), object(1)\n",
      "memory usage: 1.2+ KB\n",
      "None\n",
      "Data frame is 33 x 4\n",
      "Writing to: Cleaning_done_listings-2020.csv\n",
      "Clean 1 Done.\n",
      "Data frame is 70,617 x 5\n",
      "<class 'pandas.core.frame.DataFrame'>\n",
      "RangeIndex: 33 entries, 0 to 32\n",
      "Data columns (total 4 columns):\n",
      " #   Column                        Non-Null Count  Dtype  \n",
      "---  ------                        --------------  -----  \n",
      " 0   region                        33 non-null     object \n",
      " 1   count                         33 non-null     int64  \n",
      " 2   price_average                 33 non-null     float64\n",
      " 3   review_scores_rating_average  33 non-null     float64\n",
      "dtypes: float64(2), int64(1), object(1)\n",
      "memory usage: 1.2+ KB\n",
      "None\n",
      "Data frame is 33 x 4\n",
      "Writing to: Cleaning_done_listings-2021.csv\n",
      "Clean 2 Done.\n",
      "Data frame is 69,351 x 5\n",
      "<class 'pandas.core.frame.DataFrame'>\n",
      "RangeIndex: 33 entries, 0 to 32\n",
      "Data columns (total 4 columns):\n",
      " #   Column                        Non-Null Count  Dtype  \n",
      "---  ------                        --------------  -----  \n",
      " 0   region                        33 non-null     object \n",
      " 1   count                         33 non-null     int64  \n",
      " 2   price_average                 33 non-null     float64\n",
      " 3   review_scores_rating_average  33 non-null     float64\n",
      "dtypes: float64(2), int64(1), object(1)\n",
      "memory usage: 1.2+ KB\n",
      "None\n",
      "Data frame is 33 x 4\n",
      "Writing to: Cleaning_done_listings-2022.csv\n",
      "Clean 3 Done.\n",
      "Data frame is 87,946 x 5\n",
      "<class 'pandas.core.frame.DataFrame'>\n",
      "RangeIndex: 33 entries, 0 to 32\n",
      "Data columns (total 4 columns):\n",
      " #   Column                        Non-Null Count  Dtype  \n",
      "---  ------                        --------------  -----  \n",
      " 0   region                        33 non-null     object \n",
      " 1   count                         33 non-null     int64  \n",
      " 2   price_average                 33 non-null     float64\n",
      " 3   review_scores_rating_average  33 non-null     float64\n",
      "dtypes: float64(2), int64(1), object(1)\n",
      "memory usage: 1.2+ KB\n",
      "None\n",
      "Data frame is 33 x 4\n",
      "Writing to: Cleaning_done_listings-2023.csv\n",
      "Clean 4 Done.\n"
     ]
    }
   ],
   "source": [
    "for year in range(0, len(year_list)):\n",
    "    df = pd.read_csv(url[year], low_memory=False) # compression='gzip'\n",
    "    print(f\"Data frame is {df.shape[0]:,} x {df.shape[1]}\")\n",
    "\n",
    "    if year_list[year] == '2019':\n",
    "        df.drop(df[df['price'] == ' '].index, inplace=True)\n",
    "        df['price'] = df['price'].astype('float')\n",
    "        df_new = df.groupby('neighbourhood').agg({'neighbourhood': 'count', 'price': 'mean'}).rename(columns={'neighbourhood': 'region'})\n",
    "        df_new.reset_index(inplace=True)\n",
    "        df_new.columns = ['region', 'count_airbnb', 'price_average']\n",
    "        df['year'] = year_list[year]\n",
    "    else:   \n",
    "        df['price'] = df['price'].str.replace('$','', regex=False).str.replace(',','', regex=False).astype('float')\n",
    "        df_new = df.groupby('neighbourhood_cleansed').agg({'neighbourhood_cleansed': 'count', 'price': 'mean', 'review_scores_rating': 'mean'}).rename(columns={'neighbourhood_cleansed': 'region'})\n",
    "        df_new.reset_index(inplace=True)\n",
    "        df_new.columns = ['region', 'count', 'price_average', 'review_scores_rating_average']\n",
    "        df['year'] = year_list[year]\n",
    "    \n",
    "    print(df_new.info())\n",
    "    print(f\"Data frame is {df_new.shape[0]:,} x {df_new.shape[1]}\")\n",
    "    \n",
    "    path = os.path.join('Data','clean') # A default location to save raw data\n",
    "    fn = url[year].split('/')[-1]\n",
    "    fn = \"Cleaning_done_\" + fn.replace(\"drop_cols_\", \"\")\n",
    "    print(f\"Writing to: {fn}\")\n",
    "    if not os.path.exists(path):\n",
    "        print(f\"Creating {path} under {os.getcwd()}\")\n",
    "        os.makedirs(path)\n",
    "    df_new.to_csv(os.path.join(path,fn), index=False)\n",
    "    print(f\"Clean {year} Done.\")"
   ]
  },
  {
   "cell_type": "code",
   "execution_count": null,
   "id": "f505123c-5ca3-4199-b852-18f152f8df94",
   "metadata": {},
   "outputs": [],
   "source": []
  },
  {
   "cell_type": "code",
   "execution_count": null,
   "id": "debf5561-05f1-4021-9e37-4af268892821",
   "metadata": {},
   "outputs": [],
   "source": []
  },
  {
   "cell_type": "code",
   "execution_count": null,
   "id": "cc918d27-d8f9-421f-8d4e-a8d7ea753f9b",
   "metadata": {},
   "outputs": [],
   "source": []
  }
 ],
 "metadata": {
  "kernelspec": {
   "display_name": "Python 3 (ipykernel)",
   "language": "python",
   "name": "python3"
  },
  "language_info": {
   "codemirror_mode": {
    "name": "ipython",
    "version": 3
   },
   "file_extension": ".py",
   "mimetype": "text/x-python",
   "name": "python",
   "nbconvert_exporter": "python",
   "pygments_lexer": "ipython3",
   "version": "3.11.5"
  }
 },
 "nbformat": 4,
 "nbformat_minor": 5
}
